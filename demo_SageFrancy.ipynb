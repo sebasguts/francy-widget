{
 "cells": [
  {
   "cell_type": "code",
   "execution_count": 3,
   "metadata": {},
   "outputs": [],
   "source": [
    "from sage_francy import FrancyWidget"
   ]
  },
  {
   "cell_type": "code",
   "execution_count": 4,
   "metadata": {},
   "outputs": [
    {
     "data": {
      "text/plain": [
       "(<class 'sage_francy.sage_francy.FrancyWidget'>,\n",
       " <class 'ipywidgets.widgets.widget_string._String'>,\n",
       " <class 'ipywidgets.widgets.widget_description.DescriptionWidget'>,\n",
       " <class 'ipywidgets.widgets.domwidget.DOMWidget'>,\n",
       " <class 'ipywidgets.widgets.valuewidget.ValueWidget'>,\n",
       " <class 'ipywidgets.widgets.widget_core.CoreWidget'>,\n",
       " <class 'ipywidgets.widgets.widget.Widget'>,\n",
       " <class 'ipywidgets.widgets.widget.LoggingHasTraits'>,\n",
       " <class 'traitlets.traitlets.HasTraits'>,\n",
       " <class 'traitlets.traitlets.HasDescriptors'>,\n",
       " <type 'object'>)"
      ]
     },
     "execution_count": 4,
     "metadata": {},
     "output_type": "execute_result"
    }
   ],
   "source": [
    "FrancyWidget.__mro__"
   ]
  }
 ],
 "metadata": {
  "kernelspec": {
   "display_name": "SageMath 8.6",
   "language": "",
   "name": "sagemath"
  },
  "language_info": {
   "codemirror_mode": {
    "name": "ipython",
    "version": 2
   },
   "file_extension": ".py",
   "mimetype": "text/x-python",
   "name": "python",
   "nbconvert_exporter": "python",
   "pygments_lexer": "ipython2",
   "version": "2.7.15"
  }
 },
 "nbformat": 4,
 "nbformat_minor": 2
}
