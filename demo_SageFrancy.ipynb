{
 "cells": [
  {
   "cell_type": "code",
   "execution_count": 1,
   "metadata": {},
   "outputs": [],
   "source": [
    "from sage_francy import FrancyWidget"
   ]
  },
  {
   "cell_type": "code",
   "execution_count": 2,
   "metadata": {},
   "outputs": [],
   "source": [
    "import networkx\n",
    "G1 = networkx.Graph([(1, 2), (2, 3), (3, 4)])  # graph from list of edges\n",
    "#G = networkx.path_graph(10)"
   ]
  },
  {
   "cell_type": "code",
   "execution_count": 3,
   "metadata": {},
   "outputs": [
    {
     "data": {
      "text/plain": [
       "'{\"version\": \"1.1.3\", \"mime\": \"application/vnd.francy+json\", \"canvas\": {\"id\": \"F1\", \"title\": \"A graph of type <class \\'networkx.classes.graph.Graph\\'>\", \"width\": 800, \"height\": 100, \"zoomToFit\": true, \"texTypesetting\": false, \"graph\": {\"id\": \"F2\", \"type\": \"undirected\", \"simulation\": true, \"collapsed\": true, \"drag\": false, \"showNeighbours\": false, \"nodes\": {\"F3\": {\"id\": \"F3\", \"x\": 0, \"y\": 0, \"type\": \"circle\", \"size\": 10, \"title\": \"1\", \"color\": \"\", \"highlight\": true, \"layer\": 1, \"parent\": \"\", \"menus\": {}, \"messages\": {}, \"callbacks\": {}}, \"F4\": {\"id\": \"F4\", \"x\": 0, \"y\": 0, \"type\": \"circle\", \"size\": 10, \"title\": \"2\", \"color\": \"\", \"highlight\": true, \"layer\": 2, \"parent\": \"\", \"menus\": {}, \"messages\": {}, \"callbacks\": {}}, \"F5\": {\"id\": \"F5\", \"x\": 0, \"y\": 0, \"type\": \"circle\", \"size\": 10, \"title\": \"3\", \"color\": \"\", \"highlight\": true, \"layer\": 3, \"parent\": \"\", \"menus\": {}, \"messages\": {}, \"callbacks\": {}}, \"F6\": {\"id\": \"F6\", \"x\": 0, \"y\": 0, \"type\": \"circle\", \"size\": 10, \"title\": \"4\", \"color\": \"\", \"highlight\": true, \"layer\": 4, \"parent\": \"\", \"menus\": {}, \"messages\": {}, \"callbacks\": {}}}, \"links\": {\"F7\": {\"id\": \"F7\", \"source\": \"F3\", \"weight\": 1, \"color\": \"\", \"target\": \"F4\"}, \"F8\": {\"id\": \"F8\", \"source\": \"F4\", \"weight\": 1, \"color\": \"\", \"target\": \"F5\"}, \"F9\": {\"id\": \"F9\", \"source\": \"F5\", \"weight\": 1, \"color\": \"\", \"target\": \"F6\"}}}, \"menus\": {}, \"messages\": {}}}'"
      ]
     },
     "execution_count": 3,
     "metadata": {},
     "output_type": "execute_result"
    }
   ],
   "source": [
    "w1 = FrancyWidget(G1)\n",
    "#w1.adapter.to_dict(G1)\n",
    "w1.adapter.to_json(G1)\n"
   ]
  },
  {
   "cell_type": "code",
   "execution_count": 4,
   "metadata": {},
   "outputs": [
    {
     "data": {
      "application/vnd.francy+json": "{\"version\": \"1.1.3\", \"mime\": \"application/vnd.francy+json\", \"canvas\": {\"id\": \"F1\", \"title\": \"A graph of type <class 'networkx.classes.graph.Graph'>\", \"width\": 800, \"height\": 100, \"zoomToFit\": true, \"texTypesetting\": false, \"graph\": {\"id\": \"F2\", \"type\": \"undirected\", \"simulation\": true, \"collapsed\": true, \"drag\": false, \"showNeighbours\": false, \"nodes\": {\"F3\": {\"id\": \"F3\", \"x\": 0, \"y\": 0, \"type\": \"circle\", \"size\": 10, \"title\": \"1\", \"color\": \"\", \"highlight\": true, \"layer\": 1, \"parent\": \"\", \"menus\": {}, \"messages\": {}, \"callbacks\": {}}, \"F4\": {\"id\": \"F4\", \"x\": 0, \"y\": 0, \"type\": \"circle\", \"size\": 10, \"title\": \"2\", \"color\": \"\", \"highlight\": true, \"layer\": 2, \"parent\": \"\", \"menus\": {}, \"messages\": {}, \"callbacks\": {}}, \"F5\": {\"id\": \"F5\", \"x\": 0, \"y\": 0, \"type\": \"circle\", \"size\": 10, \"title\": \"3\", \"color\": \"\", \"highlight\": true, \"layer\": 3, \"parent\": \"\", \"menus\": {}, \"messages\": {}, \"callbacks\": {}}, \"F6\": {\"id\": \"F6\", \"x\": 0, \"y\": 0, \"type\": \"circle\", \"size\": 10, \"title\": \"4\", \"color\": \"\", \"highlight\": true, \"layer\": 4, \"parent\": \"\", \"menus\": {}, \"messages\": {}, \"callbacks\": {}}}, \"links\": {\"F7\": {\"id\": \"F7\", \"source\": \"F3\", \"weight\": 1, \"color\": \"\", \"target\": \"F4\"}, \"F8\": {\"id\": \"F8\", \"source\": \"F4\", \"weight\": 1, \"color\": \"\", \"target\": \"F5\"}, \"F9\": {\"id\": \"F9\", \"source\": \"F5\", \"weight\": 1, \"color\": \"\", \"target\": \"F6\"}}}, \"menus\": {}, \"messages\": {}}}",
      "text/plain": [
       "FrancyWidget(value=<networkx.classes.graph.Graph object at 0x7fc017e835c0>)"
      ]
     },
     "metadata": {},
     "output_type": "display_data"
    }
   ],
   "source": [
    "w1"
   ]
  },
  {
   "cell_type": "code",
   "execution_count": 5,
   "metadata": {},
   "outputs": [
    {
     "data": {
      "application/vnd.francy+json": "{\"version\": \"1.1.3\", \"mime\": \"application/vnd.francy+json\", \"canvas\": {\"id\": \"F151\", \"title\": \"A graph of type <class 'networkx.classes.digraph.DiGraph'>\", \"width\": 800, \"height\": 100, \"zoomToFit\": true, \"texTypesetting\": false, \"graph\": {\"id\": \"F152\", \"type\": \"directed\", \"simulation\": true, \"collapsed\": true, \"drag\": false, \"showNeighbours\": false, \"nodes\": {\"F153\": {\"id\": \"F153\", \"x\": 0, \"y\": 0, \"type\": \"circle\", \"size\": 10, \"title\": \"1\", \"color\": \"\", \"highlight\": true, \"layer\": 1, \"parent\": \"\", \"menus\": {}, \"messages\": {}, \"callbacks\": {}}, \"F154\": {\"id\": \"F154\", \"x\": 0, \"y\": 0, \"type\": \"circle\", \"size\": 10, \"title\": \"2\", \"color\": \"\", \"highlight\": true, \"layer\": 2, \"parent\": \"\", \"menus\": {}, \"messages\": {}, \"callbacks\": {}}}, \"links\": {\"F155\": {\"id\": \"F155\", \"source\": \"F153\", \"weight\": 1, \"color\": \"\", \"target\": \"F154\"}}}, \"menus\": {}, \"messages\": {}}}",
      "text/plain": [
       "FrancyWidget(value=<networkx.classes.digraph.DiGraph object at 0x7fc016171898>)"
      ]
     },
     "metadata": {},
     "output_type": "display_data"
    }
   ],
   "source": [
    "G2 = networkx.DiGraph([(1, 2)])\n",
    "w2 = FrancyWidget(G2, counter=150)\n",
    "w2"
   ]
  },
  {
   "cell_type": "code",
   "execution_count": 6,
   "metadata": {},
   "outputs": [
    {
     "data": {
      "text/plain": [
       "'{\"version\": \"1.1.3\", \"mime\": \"application/vnd.francy+json\", \"canvas\": {\"id\": \"F151\", \"title\": \"Tree Graph\", \"width\": 800, \"height\": 200, \"zoomToFit\": true, \"texTypesetting\": false, \"graph\": {\"id\": \"F152\", \"type\": \"tree\", \"simulation\": true, \"collapsed\": false, \"drag\": false, \"showNeighbours\": false, \"nodes\": {\"F153\": {\"id\": \"F153\", \"x\": 0, \"y\": 0, \"type\": \"circle\", \"size\": 10, \"title\": \"1\", \"color\": \"\", \"highlight\": true, \"layer\": 1, \"parent\": \"\", \"menus\": {}, \"messages\": {}, \"callbacks\": {}}, \"F154\": {\"id\": \"F154\", \"x\": 0, \"y\": 0, \"type\": \"circle\", \"size\": 10, \"title\": \"2\", \"color\": \"\", \"highlight\": true, \"layer\": 2, \"parent\": \"F153\", \"menus\": {}, \"messages\": {}, \"callbacks\": {}}}, \"links\": {\"F155\": {\"id\": \"F155\", \"source\": \"F153\", \"weight\": 1, \"color\": \"\", \"target\": \"F154\"}}}, \"menus\": {}, \"messages\": {}}}'"
      ]
     },
     "execution_count": 6,
     "metadata": {},
     "output_type": "execute_result"
    }
   ],
   "source": [
    "G3 = networkx.balanced_tree(2,1)\n",
    "w3 = FrancyWidget(G3)\n",
    "w3.adapter.to_json(G2, title=\"Tree Graph\", height=int(200), graphType=\"tree\", collapsed=False)"
   ]
  },
  {
   "cell_type": "code",
   "execution_count": 7,
   "metadata": {},
   "outputs": [
    {
     "data": {
      "application/vnd.francy+json": "{\"version\": \"1.1.3\", \"mime\": \"application/vnd.francy+json\", \"canvas\": {\"id\": \"F151\", \"title\": \"A graph of type <class 'networkx.classes.graph.Graph'>\", \"width\": 800, \"height\": 100, \"zoomToFit\": true, \"texTypesetting\": false, \"graph\": {\"id\": \"F152\", \"type\": \"undirected\", \"simulation\": true, \"collapsed\": true, \"drag\": false, \"showNeighbours\": false, \"nodes\": {\"F153\": {\"id\": \"F153\", \"x\": 0, \"y\": 0, \"type\": \"circle\", \"size\": 10, \"title\": \"0\", \"color\": \"\", \"highlight\": true, \"layer\": 1, \"parent\": \"\", \"menus\": {}, \"messages\": {}, \"callbacks\": {}}, \"F154\": {\"id\": \"F154\", \"x\": 0, \"y\": 0, \"type\": \"circle\", \"size\": 10, \"title\": \"1\", \"color\": \"\", \"highlight\": true, \"layer\": 2, \"parent\": \"\", \"menus\": {}, \"messages\": {}, \"callbacks\": {}}, \"F155\": {\"id\": \"F155\", \"x\": 0, \"y\": 0, \"type\": \"circle\", \"size\": 10, \"title\": \"2\", \"color\": \"\", \"highlight\": true, \"layer\": 3, \"parent\": \"\", \"menus\": {}, \"messages\": {}, \"callbacks\": {}}}, \"links\": {\"F156\": {\"id\": \"F156\", \"source\": \"F153\", \"weight\": 1, \"color\": \"\", \"target\": \"F154\"}, \"F157\": {\"id\": \"F157\", \"source\": \"F153\", \"weight\": 1, \"color\": \"\", \"target\": \"F155\"}}}, \"menus\": {}, \"messages\": {}}}",
      "text/plain": [
       "FrancyWidget(value=<networkx.classes.graph.Graph object at 0x7fc01618d438>)"
      ]
     },
     "metadata": {},
     "output_type": "display_data"
    }
   ],
   "source": [
    "w3"
   ]
  },
  {
   "cell_type": "code",
   "execution_count": 8,
   "metadata": {},
   "outputs": [
    {
     "data": {
      "text/plain": [
       "'{\"id\": \"F1\", \"type\": \"default\", \"title\": \"\", \"text\": \"There are 8 levels in this Group.\"}'"
      ]
     },
     "execution_count": 8,
     "metadata": {},
     "output_type": "execute_result"
    }
   ],
   "source": [
    "from sage_francy.francy_adapter import *\n",
    "m = FrancyMessage(text=\"There are 8 levels in this Group.\")\n",
    "m.to_json()"
   ]
  },
  {
   "cell_type": "code",
   "execution_count": 9,
   "metadata": {},
   "outputs": [],
   "source": [
    "G = SymmetricGroup(4)\n",
    "N = G.subgroups()\n",
    "# leur demander s'ils sont sous-groupes les uns des autres\n",
    "# http://sheaves.github.io/Subgroup-Lattice/\n",
    "# Define f(h,k) = True iff h is a subgroup of k\n",
    "f = lambda h,k: h.is_subgroup(k)\n",
    "# Define and display the poset\n",
    "P = Poset((N, f))\n",
    "#P.plot(label_elements=False, vertex_shape= 'H', vertex_size = 800, vertex_colors = 'white')\n"
   ]
  },
  {
   "cell_type": "code",
   "execution_count": 27,
   "metadata": {},
   "outputs": [
    {
     "data": {
      "text/plain": [
       "30"
      ]
     },
     "execution_count": 27,
     "metadata": {},
     "output_type": "execute_result"
    }
   ],
   "source": [
    "F = P.first()\n",
    "D = P.hasse_diagram()\n",
    "#D.edges()\n",
    "len(D.vertices())"
   ]
  },
  {
   "cell_type": "code",
   "execution_count": 19,
   "metadata": {},
   "outputs": [
    {
     "name": "stdout",
     "output_type": "stream",
     "text": [
      "True\n"
     ]
    }
   ],
   "source": [
    "parent_of = {}\n",
    "children_of = {}\n",
    "for e in D.edges():\n",
    "    parent_of[e[1]] = e[0]\n",
    "    if not e[0] in children_of:\n",
    "        children_of[e[0]] = []\n",
    "    children_of[e[0]].append(e[1])\n",
    "for v in D.vertices():\n",
    "    if not v in parent_of:\n",
    "        print(v == F)"
   ]
  },
  {
   "cell_type": "code",
   "execution_count": 29,
   "metadata": {},
   "outputs": [
    {
     "name": "stdout",
     "output_type": "stream",
     "text": [
      "30\n"
     ]
    }
   ],
   "source": [
    "counter = 100\n",
    "g_nodes = []\n",
    "match = {}\n",
    "done = []\n",
    "g_nodes.append(GraphNode(id=\"F100\", title=v.cardinality(), size=10, parent=\"\"))\n",
    "def append_children(v):\n",
    "    global counter, g_nodes, match, done\n",
    "    if not v in children_of:\n",
    "        return\n",
    "    for c in children_of[v]:\n",
    "        if c in done:\n",
    "            continue\n",
    "        done.append(c)\n",
    "        counter += 1\n",
    "        ident = \"F%d\" % counter\n",
    "        match[v] = ident\n",
    "        g_nodes.append(GraphNode(id=ident, title=v.cardinality(), size=10, parent=match[v]))\n",
    "    for c in children_of[v]:\n",
    "        append_children(c)\n",
    "append_children(F)\n",
    "print(len(g_nodes))"
   ]
  },
  {
   "cell_type": "code",
   "execution_count": null,
   "metadata": {},
   "outputs": [],
   "source": [
    "G = networkx.DiGraph()\n",
    "\n",
    "for v in D.vertices():\n",
    "    if v in parent_of:\n",
    "        parent = parent_of[v]\n",
    "    else:\n",
    "        parent = \"\"\n",
    "    g_nodes.append(GraphNode(id=ident, title=v.cardinality(), size=10))\n",
    "#w = FrancyWidget(G, make_title=lambda x:x.cardinality())\n",
    "#v.order?\n",
    "g_nodes"
   ]
  }
 ],
 "metadata": {
  "kernelspec": {
   "display_name": "SageMath 8.6",
   "language": "",
   "name": "sagemath"
  },
  "language_info": {
   "codemirror_mode": {
    "name": "ipython",
    "version": 3
   },
   "file_extension": ".py",
   "mimetype": "text/x-python",
   "name": "python",
   "nbconvert_exporter": "python",
   "pygments_lexer": "ipython3",
   "version": "3.6.6"
  }
 },
 "nbformat": 4,
 "nbformat_minor": 2
}
