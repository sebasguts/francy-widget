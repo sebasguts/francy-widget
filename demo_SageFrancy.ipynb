{
 "cells": [
  {
   "cell_type": "code",
   "execution_count": null,
   "metadata": {},
   "outputs": [],
   "source": [
    "from sage_francy import FrancyWidget"
   ]
  },
  {
   "cell_type": "code",
   "execution_count": null,
   "metadata": {},
   "outputs": [],
   "source": [
    "FrancyWidget.__mro__"
   ]
  },
  {
   "cell_type": "code",
   "execution_count": null,
   "metadata": {},
   "outputs": [],
   "source": [
    "w0 = FrancyWidget(\"{\\\"mime\\\":\\\"application/vnd.francy+json\\\",\\\"version\\\":\\\"1.0.4\\\",\\\"canvas\\\":{\\\"texTypesetting\\\":false,\\\"graph\\\":{},\\\"id\\\":\\\"id2\\\",\\\"menus\\\":{},\\\"messages\\\":{},\\\"height\\\":600,\\\"title\\\":\\\"bla\\\",\\\"zoomToFit\\\":true,\\\"chart\\\":{},\\\"width\\\":800}}\")\n",
    "w0.__dict__"
   ]
  },
  {
   "cell_type": "code",
   "execution_count": null,
   "metadata": {},
   "outputs": [],
   "source": [
    "json1 = open(\"./francy/js/packages/francy/src/__test__/data/json1.json\").read()\n",
    "w0 = FrancyWidget(json1)\n",
    "w0.__dict__"
   ]
  },
  {
   "cell_type": "code",
   "execution_count": null,
   "metadata": {},
   "outputs": [],
   "source": [
    "w0"
   ]
  },
  {
   "cell_type": "code",
   "execution_count": null,
   "metadata": {},
   "outputs": [],
   "source": [
    "#g = graphs.PathGraph(10)\n",
    "#w = FrancyWidget(g)\n",
    "#w"
   ]
  }
 ],
 "metadata": {
  "kernelspec": {
   "display_name": "SageMath 8.6",
   "language": "",
   "name": "sagemath"
  },
  "language_info": {
   "codemirror_mode": {
    "name": "ipython",
    "version": 2
   },
   "file_extension": ".py",
   "mimetype": "text/x-python",
   "name": "python",
   "nbconvert_exporter": "python",
   "pygments_lexer": "ipython2",
   "version": "2.7.15"
  }
 },
 "nbformat": 4,
 "nbformat_minor": 2
}
