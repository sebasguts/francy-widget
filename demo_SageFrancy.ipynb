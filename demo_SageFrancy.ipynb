{
 "cells": [
  {
   "cell_type": "code",
   "execution_count": null,
   "metadata": {},
   "outputs": [],
   "source": [
    "from sage_francy import FrancyWidget"
   ]
  },
  {
   "cell_type": "code",
   "execution_count": null,
   "metadata": {},
   "outputs": [],
   "source": [
    "import networkx\n",
    "G1 = networkx.Graph([(1, 2), (2, 3), (3, 4)])  # graph from list of edges\n",
    "#G = networkx.path_graph(10)"
   ]
  },
  {
   "cell_type": "code",
   "execution_count": null,
   "metadata": {},
   "outputs": [],
   "source": [
    "w1 = FrancyWidget(G1)\n",
    "#w0.adapter.to_dict(G)\n",
    "w1.adapter.to_json(G1)\n"
   ]
  },
  {
   "cell_type": "code",
   "execution_count": null,
   "metadata": {},
   "outputs": [],
   "source": [
    "w1"
   ]
  },
  {
   "cell_type": "code",
   "execution_count": null,
   "metadata": {},
   "outputs": [],
   "source": [
    "G2 = networkx.DiGraph([(1, 2)])\n",
    "w2 = FrancyWidget(G2, counter=150)\n",
    "w2"
   ]
  },
  {
   "cell_type": "code",
   "execution_count": null,
   "metadata": {},
   "outputs": [],
   "source": [
    "G3 = networkx.balanced_tree(2,1)\n",
    "w3 = FrancyWidget(G3)\n",
    "w3.adapter.to_json(G2, title=\"Tree Graph\", height=int(200), graphType=\"tree\", collapsed=False)"
   ]
  },
  {
   "cell_type": "code",
   "execution_count": null,
   "metadata": {},
   "outputs": [],
   "source": [
    "w3"
   ]
  },
  {
   "cell_type": "code",
   "execution_count": null,
   "metadata": {},
   "outputs": [],
   "source": [
    "from sage_francy.francy_adapter import *\n",
    "m = FrancyMessage(text=\"There are 8 levels in this Group.\")\n",
    "m.to_json()"
   ]
  },
  {
   "cell_type": "code",
   "execution_count": null,
   "metadata": {},
   "outputs": [],
   "source": [
    "G = SymmetricGroup(4)\n",
    "N = G.subgroups()\n",
    "# leur demander s'ils sont sous-groupes les uns des autres\n",
    "# http://sheaves.github.io/Subgroup-Lattice/\n",
    "# Define f(h,k) = True iff h is a subgroup of k\n",
    "f = lambda h,k: h.is_subgroup(k)\n",
    "# Define and display the poset\n",
    "P = Poset((N, f))\n",
    "#P.plot(label_elements=False, vertex_shape= 'H', vertex_size = 800, vertex_colors = 'white')\n"
   ]
  },
  {
   "cell_type": "code",
   "execution_count": null,
   "metadata": {},
   "outputs": [],
   "source": [
    "#P.first()\n",
    "D = P.hasse_diagram()\n",
    "D.edges()"
   ]
  },
  {
   "cell_type": "code",
   "execution_count": null,
   "metadata": {},
   "outputs": [],
   "source": [
    "v = D.vertices()[10]\n",
    "#dir(v)"
   ]
  },
  {
   "cell_type": "code",
   "execution_count": null,
   "metadata": {},
   "outputs": [],
   "source": [
    "repr(v)"
   ]
  },
  {
   "cell_type": "code",
   "execution_count": null,
   "metadata": {},
   "outputs": [],
   "source": [
    "v.degree()\n",
    "D"
   ]
  },
  {
   "cell_type": "code",
   "execution_count": null,
   "metadata": {},
   "outputs": [],
   "source": [
    "G = networkx.DiGraph()\n",
    "g_nodes = []\n",
    "for v in D.vertices():\n",
    "    #print(v)\n",
    "    #print(v.degree(), v.order(), v.cardinality())\n",
    "    #G.add_node(str(v))\n",
    "    g_nodes.append(GraphNode(title=v.cardinality(), size=10))\n",
    "#w = FrancyWidget(G, make_title=lambda x:x.degree())\n",
    "#v.order?\n",
    "g_nodes"
   ]
  }
 ],
 "metadata": {
  "kernelspec": {
   "display_name": "SageMath 8.6",
   "language": "",
   "name": "sagemath"
  },
  "language_info": {
   "codemirror_mode": {
    "name": "ipython",
    "version": 3
   },
   "file_extension": ".py",
   "mimetype": "text/x-python",
   "name": "python",
   "nbconvert_exporter": "python",
   "pygments_lexer": "ipython3",
   "version": "3.6.6"
  }
 },
 "nbformat": 4,
 "nbformat_minor": 2
}
