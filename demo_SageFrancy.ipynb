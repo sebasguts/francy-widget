{
 "cells": [
  {
   "cell_type": "code",
   "execution_count": null,
   "metadata": {},
   "outputs": [],
   "source": [
    "from sage_francy import FrancyWidget"
   ]
  },
  {
   "cell_type": "code",
   "execution_count": null,
   "metadata": {},
   "outputs": [],
   "source": [
    "import networkx\n",
    "G1 = networkx.Graph([(1, 2), (2, 3), (3, 4)])  # graph from list of edges\n",
    "#G = networkx.path_graph(10)"
   ]
  },
  {
   "cell_type": "code",
   "execution_count": null,
   "metadata": {},
   "outputs": [],
   "source": [
    "w1 = FrancyWidget(G1, title=\"Undirected Graph Example\")\n",
    "#w1.adapter.to_dict(G1, title=\"Undirected graph\")\n",
    "w1.adapter.to_json(G1, title=\"Undirected Graph\")\n"
   ]
  },
  {
   "cell_type": "code",
   "execution_count": null,
   "metadata": {},
   "outputs": [],
   "source": [
    "w1"
   ]
  },
  {
   "cell_type": "code",
   "execution_count": null,
   "metadata": {},
   "outputs": [],
   "source": [
    "G2 = networkx.DiGraph([(1, 2)])\n",
    "w2 = FrancyWidget(G2, counter=150)\n",
    "w2"
   ]
  },
  {
   "cell_type": "code",
   "execution_count": null,
   "metadata": {},
   "outputs": [],
   "source": [
    "G3 = networkx.balanced_tree(2,1)\n",
    "w3 = FrancyWidget(G3, title=\"Directed Graph Example\", height=float(200))\n",
    "#w3.adapter.to_json(G2, title=\"Tree Graph\", height=int(200), graphType=\"tree\", collapsed=False)"
   ]
  },
  {
   "cell_type": "code",
   "execution_count": null,
   "metadata": {},
   "outputs": [],
   "source": [
    "w3"
   ]
  },
  {
   "cell_type": "code",
   "execution_count": null,
   "metadata": {},
   "outputs": [],
   "source": [
    "G33 = networkx.DiGraph([('1', 'G'), ('G', 'SG1'), ('G', 'SG2')])\n",
    "w33 = FrancyWidget(G33, title=\"Example Tree Graph\", graphType=\"tree\", collapsed=False) #, nodeTypes=['square', 'circle', 'circle', 'circle'])\n",
    "#w33.adapter.to_json(G33, title=\"Example Tree Graph\", graphType=\"tree\", collapsed=False) #, nodeTypes=['square', 'circle', 'circle', 'circle'])"
   ]
  },
  {
   "cell_type": "code",
   "execution_count": null,
   "metadata": {},
   "outputs": [],
   "source": [
    "#w33.adapter.__dict__\n",
    "#w33.adapter.canvas.__dict__\n",
    "#w33.adapter.canvas.graph.__dict__\n",
    "#w33.adapter.to_json(G33)\n",
    "w33"
   ]
  },
  {
   "cell_type": "code",
   "execution_count": null,
   "metadata": {},
   "outputs": [],
   "source": [
    "from sage_francy.francy_adapter import *\n",
    "m = FrancyMessage(text=\"There are 8 levels in this Group.\")\n",
    "m.to_json()"
   ]
  },
  {
   "cell_type": "code",
   "execution_count": null,
   "metadata": {},
   "outputs": [],
   "source": [
    "S4 = SymmetricGroup(4)\n",
    "N = S4.subgroups()\n",
    "# leur demander s'ils sont sous-groupes les uns des autres\n",
    "# http://sheaves.github.io/Subgroup-Lattice/\n",
    "# Define f(h,k) = True iff h is a subgroup of k\n",
    "f = lambda h,k: h.is_subgroup(k)\n",
    "# Define and display the poset\n",
    "P = Poset((N, f))\n",
    "#P.plot(label_elements=False, vertex_shape= 'H', vertex_size = 800, vertex_colors = 'white')\n"
   ]
  },
  {
   "cell_type": "code",
   "execution_count": null,
   "metadata": {},
   "outputs": [],
   "source": [
    "F = P.first()\n",
    "D = P.hasse_diagram()\n",
    "#D.edges()\n",
    "print(len(D.vertices()), len(D.edges()))\n",
    "#P.linear_extension()"
   ]
  },
  {
   "cell_type": "code",
   "execution_count": null,
   "metadata": {},
   "outputs": [],
   "source": [
    "#parent_of = {}\n",
    "#children_of = {}\n",
    "#g_nodes = []\n",
    "g_edges = []\n",
    "from sage_francy.francy_adapter import GraphNode, GraphEdge\n",
    "#g_nodes.append(GraphNode(obj=F, title=F.cardinality(), size=10))\n",
    "for e in D.edges():\n",
    "    src = GraphNode(obj=e[0], title=v.cardinality(), size=10)\n",
    "    tgt = GraphNode(obj=e[1], title=v.cardinality(), size=10)\n",
    "    g_edges.append((src, tgt))\n",
    "print(len(g_edges))"
   ]
  },
  {
   "cell_type": "code",
   "execution_count": null,
   "metadata": {},
   "outputs": [],
   "source": [
    "\"\"\"\"\n",
    "counter = 100\n",
    "g_nodes = []\n",
    "match = {}\n",
    "done = []\n",
    "from sage_francy.francy_adapter import GraphNode\n",
    "v = D.vertices()[0]\n",
    "g_nodes.append(GraphNode(obj=v, title=v.cardinality(), size=10))\n",
    "def append_children(v):\n",
    "    global counter, g_nodes, match, done\n",
    "    if not v in children_of:\n",
    "        return\n",
    "    for c in children_of[v]:\n",
    "        if c in done:\n",
    "            continue\n",
    "        done.append(c)\n",
    "        counter += 1\n",
    "        ident = \"F%d\" % counter\n",
    "        match[v] = ident\n",
    "        g_nodes.append(GraphNode(id=ident, title=v.cardinality(), size=10, parent=match[v]))\n",
    "    for c in children_of[v]:\n",
    "        append_children(c)\n",
    "append_children(F)\n",
    "print(len(g_nodes))\n",
    "\"\"\"\""
   ]
  },
  {
   "cell_type": "code",
   "execution_count": null,
   "metadata": {},
   "outputs": [],
   "source": [
    "import networkx\n",
    "G7 = networkx.DiGraph()\n",
    "G7.add_edges_from(g_edges)\n",
    "len(G7.nodes)"
   ]
  },
  {
   "cell_type": "code",
   "execution_count": null,
   "metadata": {},
   "outputs": [],
   "source": [
    "#w7 = FrancyWidget(G7, title=\"S4\", counter=98)\n",
    "#w7"
   ]
  }
 ],
 "metadata": {
  "kernelspec": {
   "display_name": "SageMath 8.6",
   "language": "",
   "name": "sagemath"
  },
  "language_info": {
   "codemirror_mode": {
    "name": "ipython",
    "version": 3
   },
   "file_extension": ".py",
   "mimetype": "text/x-python",
   "name": "python",
   "nbconvert_exporter": "python",
   "pygments_lexer": "ipython3",
   "version": "3.6.6"
  }
 },
 "nbformat": 4,
 "nbformat_minor": 2
}
