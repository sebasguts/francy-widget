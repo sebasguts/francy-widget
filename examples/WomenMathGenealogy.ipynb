{
 "cells": [
  {
   "cell_type": "markdown",
   "metadata": {},
   "source": [
    "# Nina Bari's descent\n",
    "Nina Bari was a Russian mathematician. She had 2 doctoral students who had 7 themselves, altogether."
   ]
  },
  {
   "cell_type": "markdown",
   "metadata": {},
   "source": [
    "According to Wikidata, only 37 women mathematicians had doctoral students, among them 11 had more than one (it seems that data are incomplete ..).\n",
    "From the 37, only *8* had students who had doctoral students themselves:\n",
    "* Nina Bari -> 7 \"grandstudents\"\n",
    "* Olga Ladyzhenskaya -> 5\n",
    "* Emmy Noether -> 4\n",
    "* Olga Arsenievna Oleinik -> 3\n",
    "* Mary Cartwright -> 1\n",
    "* Marie-France Vignéras -> 1\n",
    "* Sofya Yanovskaya -> 1\n",
    "* Yvette Amice -> 1"
   ]
  },
  {
   "cell_type": "code",
   "execution_count": null,
   "metadata": {},
   "outputs": [],
   "source": [
    "from francy_widget import FrancyWidget"
   ]
  },
  {
   "cell_type": "code",
   "execution_count": null,
   "metadata": {},
   "outputs": [],
   "source": [
    "import networkx\n",
    "G1 = networkx.Graph([(\"Nina Bari\", \"Pyotr Lavrentyevich Ulyanov\"), (\"Nina Bari\", \"Sergey Yablonsky\"),\n",
    "                    (\"Pyotr Lavrentyevich Ulyanov\", \"Boris Kashin\"), (\"Pyotr Lavrentyevich Ulyanov\", \"Yevgeny Nikishin\"), \n",
    "                    (\"Pyotr Lavrentyevich Ulyanov\", \"Nurlan Temirgaliev\"), (\"Pyotr Lavrentyevich Ulyanov\", \"Sergey Bochkaryov\"),\n",
    "                    (\"Sergey Yablonsky\", \"Гарий Петрович Гаврилов\"), (\"Sergey Yablonsky\", \"Valerij Alekseev\"),(\"Sergey Yablonsky\", \"Svetlana Selezneva\")])"
   ]
  },
  {
   "cell_type": "code",
   "execution_count": null,
   "metadata": {},
   "outputs": [],
   "source": [
    "w = FrancyWidget(G1, graphType=\"undirected\", height=600)\n",
    "w"
   ]
  },
  {
   "cell_type": "code",
   "execution_count": null,
   "metadata": {},
   "outputs": [],
   "source": [
    "import networkx, json\n",
    "from francy_widget import FrancyWidget\n",
    "G = networkx.DiGraph()\n",
    "data = json.load(open(\"WomenMathGenealogy/data.json\"))\n",
    "data_to_keep = {k:data[k] for k in data if data[k][0]<4}\n",
    "edges = [e for e in json.load(open(\"WomenMathGenealogy/edges.json\")) \\\n",
    "         if e[1] in data_to_keep]\n",
    "G.add_edges_from(edges)\n",
    "def node_options(n):\n",
    "    options = {}\n",
    "    d = data[n]\n",
    "    options[\"layer\"] = d[0]\n",
    "    options[\"title\"] = \"%s (%s)\" % (d[2].split(\",\")[0], d[3])\n",
    "    if n in [\"6967\", \"63779\", \"6982\", \"29850\", \"121808\", \"191816\",\n",
    "             \"54355\", \"98035\", \"44616\", \"57077\", \"21851\"]:\n",
    "        options[\"type\"] = 'diamond'\n",
    "    else:\n",
    "        options[\"type\"] = 'circle'\n",
    "    return options\n",
    "FrancyWidget(G, graphType=\"directed\", height=600, zoomToFit=False,\n",
    "             node_options=node_options)"
   ]
  }
 ],
 "metadata": {
  "kernelspec": {
   "display_name": "Python 3",
   "language": "python",
   "name": "python3"
  },
  "language_info": {
   "codemirror_mode": {
    "name": "ipython",
    "version": 3
   },
   "file_extension": ".py",
   "mimetype": "text/x-python",
   "name": "python",
   "nbconvert_exporter": "python",
   "pygments_lexer": "ipython3",
   "version": "3.6.6"
  }
 },
 "nbformat": 4,
 "nbformat_minor": 2
}
