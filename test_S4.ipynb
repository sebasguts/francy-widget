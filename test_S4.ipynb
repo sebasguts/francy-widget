{
 "cells": [
  {
   "cell_type": "code",
   "execution_count": null,
   "metadata": {},
   "outputs": [],
   "source": [
    "from sage_francy import FrancyWidget"
   ]
  },
  {
   "cell_type": "code",
   "execution_count": null,
   "metadata": {},
   "outputs": [],
   "source": [
    "S4 = SymmetricGroup(4)\n",
    "N = S4.subgroups()\n",
    "# leur demander s'ils sont sous-groupes les uns des autres\n",
    "# http://sheaves.github.io/Subgroup-Lattice/\n",
    "# Define f(h,k) = True iff h is a subgroup of k\n",
    "f = lambda h,k: h.is_subgroup(k)\n",
    "# Define and display the poset\n",
    "P = Poset((N, f))\n",
    "#P.plot(label_elements=False, vertex_shape= 'H', vertex_size = 800, vertex_colors = 'white')\n"
   ]
  },
  {
   "cell_type": "code",
   "execution_count": null,
   "metadata": {},
   "outputs": [],
   "source": [
    "D = P.hasse_diagram()"
   ]
  },
  {
   "cell_type": "code",
   "execution_count": null,
   "metadata": {},
   "outputs": [],
   "source": [
    "import networkx\n",
    "G7 = networkx.Graph()\n",
    "G7.add_edges_from([(e[0], e[1]) for e in D.edges()])\n",
    "len(G7.nodes)\n",
    "#G7.nodes"
   ]
  },
  {
   "cell_type": "code",
   "execution_count": null,
   "metadata": {},
   "outputs": [],
   "source": [
    "def node_name(n):\n",
    "    if n.cardinality() == 24:\n",
    "        return 'G'\n",
    "    return str(n.cardinality())\n",
    "\n",
    "def node_type(n):\n",
    "    if n.cardinality() in [1,12,24]:\n",
    "        return 'diamond'\n",
    "    return 'circle'\n",
    "\n",
    "def node_layer(n):\n",
    "    if n.cardinality() == 1:\n",
    "        l = -2\n",
    "    elif n.cardinality() in [2, 3]:\n",
    "        l = -4\n",
    "    elif n.cardinality() == 4:\n",
    "        l = -6\n",
    "    elif n.cardinality() in [5, 6, 7]:\n",
    "        l = 8\n",
    "    elif n.cardinality() == 8:\n",
    "        l = 10\n",
    "    elif n.cardinality() == 9:\n",
    "        l = 12\n",
    "    elif n.cardinality() in [10, 11, 12]:\n",
    "        l = 14\n",
    "    elif n.cardinality() == 24:\n",
    "        l = 16\n",
    "    return int(l)\n",
    "\n",
    "def node_conjugate(n):\n",
    "    if n.cardinality() == 24:\n",
    "        return 0\n",
    "    return node_layer(n)"
   ]
  },
  {
   "cell_type": "code",
   "execution_count": null,
   "metadata": {},
   "outputs": [],
   "source": [
    "from sage_francy import FrancyWidget, FrancyMessage\n",
    "w7 = FrancyWidget(G7, \n",
    "                  title=\"S4\", counter=300, height=600, \n",
    "                  messages=[\"There are 8 levels in this Group.\"],\n",
    "                  node_name=node_name, node_type=node_type, node_layer=node_layer)\n",
    "w7"
   ]
  }
 ],
 "metadata": {
  "kernelspec": {
   "display_name": "SageMath 8.6",
   "language": "",
   "name": "sagemath"
  },
  "language_info": {
   "codemirror_mode": {
    "name": "ipython",
    "version": 3
   },
   "file_extension": ".py",
   "mimetype": "text/x-python",
   "name": "python",
   "nbconvert_exporter": "python",
   "pygments_lexer": "ipython3",
   "version": "3.6.6"
  }
 },
 "nbformat": 4,
 "nbformat_minor": 2
}
