{
 "cells": [
  {
   "cell_type": "code",
   "execution_count": null,
   "metadata": {},
   "outputs": [],
   "source": [
    "S4 = SymmetricGroup(4)\n",
    "N = S4.subgroups()\n",
    "# leur demander s'ils sont sous-groupes les uns des autres\n",
    "# http://sheaves.github.io/Subgroup-Lattice/\n",
    "# Define f(h,k) = True iff h is a subgroup of k\n",
    "f = lambda h,k: h.is_subgroup(k)\n",
    "# Define and display the poset\n",
    "P = Poset((N, f))\n",
    "#P.plot(label_elements=False, vertex_shape= 'H', vertex_size = 800, vertex_colors = 'white')\n"
   ]
  },
  {
   "cell_type": "code",
   "execution_count": null,
   "metadata": {},
   "outputs": [],
   "source": [
    "D = P.hasse_diagram()"
   ]
  },
  {
   "cell_type": "code",
   "execution_count": null,
   "metadata": {},
   "outputs": [],
   "source": [
    "import networkx\n",
    "G7 = networkx.Graph()\n",
    "G7.add_edges_from([(e[0], e[1]) for e in D.edges()])\n",
    "len(G7.nodes)\n",
    "#G7.nodes"
   ]
  },
  {
   "cell_type": "code",
   "execution_count": null,
   "metadata": {},
   "outputs": [],
   "source": [
    "# Normal subgroups\n",
    "S4.normal_subgroups()"
   ]
  },
  {
   "cell_type": "code",
   "execution_count": null,
   "metadata": {},
   "outputs": [],
   "source": [
    "# Conjugality classes\n",
    "S4.conjugacy_classes_subgroups()\n",
    "C = S4._gap_().ConjugacyClassesSubgroups()\n",
    "c = C[2]\n",
    "c.List(), c.Representative(), S4.subgroup(gap_group=c.Representative())"
   ]
  },
  {
   "cell_type": "code",
   "execution_count": null,
   "metadata": {},
   "outputs": [],
   "source": [
    "def node_options(n):\n",
    "    options = {}\n",
    "    if n.is_normal():\n",
    "        options['type'] = 'diamond'\n",
    "        options['conjugate'] = 0\n",
    "    else:\n",
    "        options['type'] = 'circle'\n",
    "    if n.cardinality() == 24:\n",
    "        options['title'] = 'G'\n",
    "    else:\n",
    "        options['title'] = str(n.cardinality())\n",
    "    return options\n",
    "old = \"\"\"\n",
    "def node_name(n):\n",
    "    if n.cardinality() == 24:\n",
    "        return 'G'\n",
    "    return str(n.cardinality())\n",
    "\n",
    "def node_type(n):\n",
    "    if n.is_normal():\n",
    "        return 'diamond'\n",
    "    return 'circle'\n",
    "\n",
    "def node_layer(n):\n",
    "    if n.cardinality() == 1:\n",
    "        l = -2\n",
    "    elif n.cardinality() in [2, 3]:\n",
    "        l = -4\n",
    "    elif n.cardinality() == 4:\n",
    "        l = -6\n",
    "    elif n.cardinality() in [5, 6, 7]:\n",
    "        l = -8\n",
    "    elif n.cardinality() == 8:\n",
    "        l = -10\n",
    "    elif n.cardinality() == 9:\n",
    "        l = -12\n",
    "    elif n.cardinality() in [10, 11, 12]:\n",
    "        l = -14\n",
    "    elif n.cardinality() == 24:\n",
    "        l = -16\n",
    "    return int(l)\n",
    "\n",
    "def node_conjugate(n):\n",
    "    if n.cardinality() == 24:\n",
    "        return 0\n",
    "    return n.cardinality()\n",
    "\"\"\""
   ]
  },
  {
   "cell_type": "code",
   "execution_count": null,
   "metadata": {},
   "outputs": [],
   "source": [
    "from sage_francy import FrancyWidget, FrancyMessage\n",
    "w7 = FrancyWidget(G7, \n",
    "                  title=\"S4\", counter=45, height=600, \n",
    "                  messages=[\"There are 8 levels in this Group.\"],\n",
    "                  node_options=node_options)\n",
    "#w7.adapter.to_dict(G7,\n",
    "#                  title=\"S4\", height=600, \n",
    "#                  messages=[\"There are 8 levels in this Group.\"],\n",
    "#                  node_options=node_options)\n",
    "w7"
   ]
  },
  {
   "cell_type": "code",
   "execution_count": null,
   "metadata": {},
   "outputs": [],
   "source": [
    "import json\n",
    "myjson = json.loads(w7.json_data)\n",
    "dump = json.dumps(myjson, indent=4, sort_keys=False)\n",
    "print(dump)\n",
    "open(\"myjson7.json\", 'w').write(dump)"
   ]
  },
  {
   "cell_type": "code",
   "execution_count": null,
   "metadata": {},
   "outputs": [],
   "source": [
    "#json7 = json.load(open(\"./francy/js/packages/francy/src/__test__/data/json7.json\"))\n",
    "#json7"
   ]
  }
 ],
 "metadata": {
  "kernelspec": {
   "display_name": "SageMath 8.6",
   "language": "",
   "name": "sagemath"
  },
  "language_info": {
   "codemirror_mode": {
    "name": "ipython",
    "version": 3
   },
   "file_extension": ".py",
   "mimetype": "text/x-python",
   "name": "python",
   "nbconvert_exporter": "python",
   "pygments_lexer": "ipython3",
   "version": "3.6.6"
  }
 },
 "nbformat": 4,
 "nbformat_minor": 2
}
